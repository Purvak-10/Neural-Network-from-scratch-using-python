{
 "cells": [
  {
   "cell_type": "code",
   "execution_count": 1,
   "id": "7b32638b-2698-4969-857e-9de6a16e20e3",
   "metadata": {},
   "outputs": [],
   "source": [
    "import numpy as np\n",
    "import pandas as pd\n",
    "import matplotlib.pyplot as plt"
   ]
  },
  {
   "cell_type": "code",
   "execution_count": 3,
   "id": "6039ba9f-9411-49c7-a92b-5469d72381ba",
   "metadata": {},
   "outputs": [],
   "source": [
    "data = pd.read_csv(\"E:/work/Project/Neural network from scratch using python/train.csv\")"
   ]
  },
  {
   "cell_type": "code",
   "execution_count": 5,
   "id": "18c2521a-a60b-4018-bfad-469be36f0dc4",
   "metadata": {},
   "outputs": [
    {
     "data": {
      "text/html": [
       "<div>\n",
       "<style scoped>\n",
       "    .dataframe tbody tr th:only-of-type {\n",
       "        vertical-align: middle;\n",
       "    }\n",
       "\n",
       "    .dataframe tbody tr th {\n",
       "        vertical-align: top;\n",
       "    }\n",
       "\n",
       "    .dataframe thead th {\n",
       "        text-align: right;\n",
       "    }\n",
       "</style>\n",
       "<table border=\"1\" class=\"dataframe\">\n",
       "  <thead>\n",
       "    <tr style=\"text-align: right;\">\n",
       "      <th></th>\n",
       "      <th>label</th>\n",
       "      <th>pixel0</th>\n",
       "      <th>pixel1</th>\n",
       "      <th>pixel2</th>\n",
       "      <th>pixel3</th>\n",
       "      <th>pixel4</th>\n",
       "      <th>pixel5</th>\n",
       "      <th>pixel6</th>\n",
       "      <th>pixel7</th>\n",
       "      <th>pixel8</th>\n",
       "      <th>...</th>\n",
       "      <th>pixel774</th>\n",
       "      <th>pixel775</th>\n",
       "      <th>pixel776</th>\n",
       "      <th>pixel777</th>\n",
       "      <th>pixel778</th>\n",
       "      <th>pixel779</th>\n",
       "      <th>pixel780</th>\n",
       "      <th>pixel781</th>\n",
       "      <th>pixel782</th>\n",
       "      <th>pixel783</th>\n",
       "    </tr>\n",
       "  </thead>\n",
       "  <tbody>\n",
       "    <tr>\n",
       "      <th>0</th>\n",
       "      <td>1</td>\n",
       "      <td>0</td>\n",
       "      <td>0</td>\n",
       "      <td>0</td>\n",
       "      <td>0</td>\n",
       "      <td>0</td>\n",
       "      <td>0</td>\n",
       "      <td>0</td>\n",
       "      <td>0</td>\n",
       "      <td>0</td>\n",
       "      <td>...</td>\n",
       "      <td>0</td>\n",
       "      <td>0</td>\n",
       "      <td>0</td>\n",
       "      <td>0</td>\n",
       "      <td>0</td>\n",
       "      <td>0</td>\n",
       "      <td>0</td>\n",
       "      <td>0</td>\n",
       "      <td>0</td>\n",
       "      <td>0</td>\n",
       "    </tr>\n",
       "    <tr>\n",
       "      <th>1</th>\n",
       "      <td>0</td>\n",
       "      <td>0</td>\n",
       "      <td>0</td>\n",
       "      <td>0</td>\n",
       "      <td>0</td>\n",
       "      <td>0</td>\n",
       "      <td>0</td>\n",
       "      <td>0</td>\n",
       "      <td>0</td>\n",
       "      <td>0</td>\n",
       "      <td>...</td>\n",
       "      <td>0</td>\n",
       "      <td>0</td>\n",
       "      <td>0</td>\n",
       "      <td>0</td>\n",
       "      <td>0</td>\n",
       "      <td>0</td>\n",
       "      <td>0</td>\n",
       "      <td>0</td>\n",
       "      <td>0</td>\n",
       "      <td>0</td>\n",
       "    </tr>\n",
       "    <tr>\n",
       "      <th>2</th>\n",
       "      <td>1</td>\n",
       "      <td>0</td>\n",
       "      <td>0</td>\n",
       "      <td>0</td>\n",
       "      <td>0</td>\n",
       "      <td>0</td>\n",
       "      <td>0</td>\n",
       "      <td>0</td>\n",
       "      <td>0</td>\n",
       "      <td>0</td>\n",
       "      <td>...</td>\n",
       "      <td>0</td>\n",
       "      <td>0</td>\n",
       "      <td>0</td>\n",
       "      <td>0</td>\n",
       "      <td>0</td>\n",
       "      <td>0</td>\n",
       "      <td>0</td>\n",
       "      <td>0</td>\n",
       "      <td>0</td>\n",
       "      <td>0</td>\n",
       "    </tr>\n",
       "    <tr>\n",
       "      <th>3</th>\n",
       "      <td>4</td>\n",
       "      <td>0</td>\n",
       "      <td>0</td>\n",
       "      <td>0</td>\n",
       "      <td>0</td>\n",
       "      <td>0</td>\n",
       "      <td>0</td>\n",
       "      <td>0</td>\n",
       "      <td>0</td>\n",
       "      <td>0</td>\n",
       "      <td>...</td>\n",
       "      <td>0</td>\n",
       "      <td>0</td>\n",
       "      <td>0</td>\n",
       "      <td>0</td>\n",
       "      <td>0</td>\n",
       "      <td>0</td>\n",
       "      <td>0</td>\n",
       "      <td>0</td>\n",
       "      <td>0</td>\n",
       "      <td>0</td>\n",
       "    </tr>\n",
       "    <tr>\n",
       "      <th>4</th>\n",
       "      <td>0</td>\n",
       "      <td>0</td>\n",
       "      <td>0</td>\n",
       "      <td>0</td>\n",
       "      <td>0</td>\n",
       "      <td>0</td>\n",
       "      <td>0</td>\n",
       "      <td>0</td>\n",
       "      <td>0</td>\n",
       "      <td>0</td>\n",
       "      <td>...</td>\n",
       "      <td>0</td>\n",
       "      <td>0</td>\n",
       "      <td>0</td>\n",
       "      <td>0</td>\n",
       "      <td>0</td>\n",
       "      <td>0</td>\n",
       "      <td>0</td>\n",
       "      <td>0</td>\n",
       "      <td>0</td>\n",
       "      <td>0</td>\n",
       "    </tr>\n",
       "  </tbody>\n",
       "</table>\n",
       "<p>5 rows × 785 columns</p>\n",
       "</div>"
      ],
      "text/plain": [
       "   label  pixel0  pixel1  pixel2  pixel3  pixel4  pixel5  pixel6  pixel7  \\\n",
       "0      1       0       0       0       0       0       0       0       0   \n",
       "1      0       0       0       0       0       0       0       0       0   \n",
       "2      1       0       0       0       0       0       0       0       0   \n",
       "3      4       0       0       0       0       0       0       0       0   \n",
       "4      0       0       0       0       0       0       0       0       0   \n",
       "\n",
       "   pixel8  ...  pixel774  pixel775  pixel776  pixel777  pixel778  pixel779  \\\n",
       "0       0  ...         0         0         0         0         0         0   \n",
       "1       0  ...         0         0         0         0         0         0   \n",
       "2       0  ...         0         0         0         0         0         0   \n",
       "3       0  ...         0         0         0         0         0         0   \n",
       "4       0  ...         0         0         0         0         0         0   \n",
       "\n",
       "   pixel780  pixel781  pixel782  pixel783  \n",
       "0         0         0         0         0  \n",
       "1         0         0         0         0  \n",
       "2         0         0         0         0  \n",
       "3         0         0         0         0  \n",
       "4         0         0         0         0  \n",
       "\n",
       "[5 rows x 785 columns]"
      ]
     },
     "execution_count": 5,
     "metadata": {},
     "output_type": "execute_result"
    }
   ],
   "source": [
    "data.head()"
   ]
  },
  {
   "cell_type": "code",
   "execution_count": 7,
   "id": "f9153270-b895-43c7-a96f-c51b6e83983a",
   "metadata": {},
   "outputs": [],
   "source": [
    "data=np.array(data)\n",
    "m,n=data.shape\n",
    "np.random.shuffle(data)"
   ]
  },
  {
   "cell_type": "code",
   "execution_count": 9,
   "id": "1d4504ae-3540-4fe9-ad8e-ee23205bcdd5",
   "metadata": {},
   "outputs": [
    {
     "name": "stdout",
     "output_type": "stream",
     "text": [
      "42000 785\n"
     ]
    }
   ],
   "source": [
    "print(m,n)"
   ]
  },
  {
   "cell_type": "code",
   "execution_count": 11,
   "id": "5b0cf644-8124-4d98-afb9-219774041829",
   "metadata": {},
   "outputs": [],
   "source": [
    "train=data[0:int(0.8*m),:]\n",
    "val=data[int(0.8*m):m,:]"
   ]
  },
  {
   "cell_type": "code",
   "execution_count": 15,
   "id": "35074b61-ee36-459f-88e7-bfca6c666f0a",
   "metadata": {},
   "outputs": [],
   "source": [
    "xtrain=train[:, 1:].T\n",
    "xtrain=xtrain/255.0\n",
    "ytrain=train[:,0]"
   ]
  },
  {
   "cell_type": "code",
   "execution_count": 17,
   "id": "4f7b48aa-4f7e-4bd9-847f-274f845e40d6",
   "metadata": {},
   "outputs": [],
   "source": [
    "xval=val[:, 1:].T\n",
    "xval=xval/255.0\n",
    "yval=val[:,0]"
   ]
  },
  {
   "cell_type": "code",
   "execution_count": 19,
   "id": "608178ad-a663-4ef9-9542-496111dcc4df",
   "metadata": {},
   "outputs": [
    {
     "name": "stdout",
     "output_type": "stream",
     "text": [
      "(784, 33600) (33600,)\n",
      "(784, 8400) (8400,)\n"
     ]
    }
   ],
   "source": [
    "print(xtrain.shape, ytrain.shape)\n",
    "print(xval.shape, yval.shape)"
   ]
  },
  {
   "cell_type": "code",
   "execution_count": 21,
   "id": "0f448242-4749-4cab-8b10-cd836b947c15",
   "metadata": {},
   "outputs": [],
   "source": [
    "def initialize_parameter_w_b():\n",
    "    w1=np.random.rand(10,784)-0.5 \n",
    "    b1=np.random.rand(10,1)-0.5 \n",
    "    w2=np.random.rand(10,10)-0.5 \n",
    "    b2=np.random.rand(10,1)-0.5 \n",
    "    return w1, b1, w2, b2"
   ]
  },
  {
   "cell_type": "code",
   "execution_count": 23,
   "id": "40ac453f-ddcc-4093-9897-48ba6305eda3",
   "metadata": {},
   "outputs": [],
   "source": [
    "def relu(x):\n",
    "    return np.maximum(x,0)"
   ]
  },
  {
   "cell_type": "code",
   "execution_count": 25,
   "id": "07ca89af-d6ab-4d69-b9bc-1f413fba0784",
   "metadata": {},
   "outputs": [],
   "source": [
    "def softmax(z):\n",
    "    return np.exp(z)/sum(np.exp(z))"
   ]
  },
  {
   "cell_type": "code",
   "execution_count": 27,
   "id": "028e9afc-fdd4-4937-aec8-ad5913204f0c",
   "metadata": {},
   "outputs": [],
   "source": [
    "def forward_prop(w1, b1, w2, b2, x):\n",
    "    z1=w1.dot(x)+b1\n",
    "    a1=relu(z1)\n",
    "    z2=w2.dot(a1)+b2\n",
    "    a2=softmax(z2)\n",
    "    return z1, a1, z2, a2"
   ]
  },
  {
   "cell_type": "code",
   "execution_count": 51,
   "id": "725737dc-aee2-49cb-8bed-e4c6b93492a2",
   "metadata": {},
   "outputs": [],
   "source": [
    "def one_hot_convertor(y):\n",
    "    one_hot_y=np.zeros((y.size, y.max()+1))\n",
    "    one_hot_y[np.arange(y.size),y]=1\n",
    "    return one_hot_y.T"
   ]
  },
  {
   "cell_type": "code",
   "execution_count": 31,
   "id": "8eb13e07-e516-446c-bd6c-edd752b8f3bd",
   "metadata": {},
   "outputs": [],
   "source": [
    "def backward_prop(w1, b1, w2, b2, z1, a1, z2, a2, x, y):\n",
    "    one_hot_y=one_hot_convertor(y)\n",
    "    dz2 = a2 - one_hot_y\n",
    "    dw2 = 1 / m * dz2.dot(a1.T)\n",
    "    db2 = 1 / m * np.sum(dz2)\n",
    "    dz1 = w2.T.dot(dz2) * (z1>0)\n",
    "    dw1 = 1 / m * dz1.dot(x.T)\n",
    "    db1 = 1 / m * np.sum(dz1)\n",
    "    return dw1, db1, dw2, db2"
   ]
  },
  {
   "cell_type": "code",
   "execution_count": 55,
   "id": "1652082b-1335-4239-aef4-b8f46cb84694",
   "metadata": {},
   "outputs": [],
   "source": [
    "def update_parameter(w1, b1, w2, b2, dw1, db1, dw2, db2, learning_rate):\n",
    "    w1 = w1-learning_rate*dw1\n",
    "    b1 = b1-learning_rate*db1\n",
    "    w2 = w2-learning_rate*dw2\n",
    "    b2 = b2-learning_rate*db2\n",
    "    return w1, b1, w2, b2"
   ]
  },
  {
   "cell_type": "code",
   "execution_count": 35,
   "id": "92ff3f35-4eb3-4444-b748-a359047f0723",
   "metadata": {},
   "outputs": [],
   "source": [
    "def get_predictions(a2):\n",
    "    return np.argmax(a2,0)"
   ]
  },
  {
   "cell_type": "code",
   "execution_count": 37,
   "id": "9116f5be-19a1-42cd-84f5-374fc55b2b0e",
   "metadata": {},
   "outputs": [],
   "source": [
    "def get_accuracy(prediction, y):\n",
    "    return np.sum(prediction==y)/y.size"
   ]
  },
  {
   "cell_type": "code",
   "execution_count": 63,
   "id": "42b893c7-8cc7-4d66-ac7d-90431f9207cc",
   "metadata": {},
   "outputs": [],
   "source": [
    "def gradient_descent(x,y, alpha, iteration):\n",
    "    w1, b1, w2, b2 = initialize_parameter_w_b()\n",
    "    \n",
    "    for i in range(iteration):\n",
    "        z1, a1, z2, a2 = forward_prop(w1, b1, w2, b2, x)\n",
    "        dw1, db1, dw2, db2 = backward_prop(w1, b1, w2, b2, z2, a1, z2, a2, x, y)\n",
    "        w1, b1, w2, b2 = update_parameter(w1, b1, w2, b2, dw1, db1, dw2, db2, alpha)\n",
    "\n",
    "        if(i%20)==0:\n",
    "            print(\"itteration number: \",i)\n",
    "            print(\"Accuracy: \", get_accuracy(get_predictions(a2), y))\n",
    "    return w1, b1, w2, b2"
   ]
  },
  {
   "cell_type": "code",
   "execution_count": 65,
   "id": "cdaef29a-bf5b-4e3f-a250-66e56c4785cf",
   "metadata": {},
   "outputs": [
    {
     "name": "stdout",
     "output_type": "stream",
     "text": [
      "itteration number:  0\n",
      "Accuracy:  0.10714285714285714\n",
      "itteration number:  20\n",
      "Accuracy:  0.24541666666666667\n",
      "itteration number:  40\n",
      "Accuracy:  0.32151785714285713\n",
      "itteration number:  60\n",
      "Accuracy:  0.3694047619047619\n",
      "itteration number:  80\n",
      "Accuracy:  0.4141666666666667\n"
     ]
    }
   ],
   "source": [
    "w1, b1, w2, b2 = gradient_descent(xtrain , ytrain, 0.1, 100)"
   ]
  },
  {
   "cell_type": "code",
   "execution_count": 67,
   "id": "2ccbface-b175-4359-bad6-64db639d7b0a",
   "metadata": {},
   "outputs": [
    {
     "name": "stdout",
     "output_type": "stream",
     "text": [
      "itteration number:  0\n",
      "Accuracy:  0.131875\n",
      "itteration number:  20\n",
      "Accuracy:  0.26916666666666667\n",
      "itteration number:  40\n",
      "Accuracy:  0.33666666666666667\n",
      "itteration number:  60\n",
      "Accuracy:  0.3898809523809524\n",
      "itteration number:  80\n",
      "Accuracy:  0.4538392857142857\n",
      "itteration number:  100\n",
      "Accuracy:  0.5003273809523809\n",
      "itteration number:  120\n",
      "Accuracy:  0.5324702380952381\n",
      "itteration number:  140\n",
      "Accuracy:  0.566577380952381\n",
      "itteration number:  160\n",
      "Accuracy:  0.6041964285714285\n",
      "itteration number:  180\n",
      "Accuracy:  0.6351785714285715\n",
      "itteration number:  200\n",
      "Accuracy:  0.6579761904761905\n",
      "itteration number:  220\n",
      "Accuracy:  0.6744345238095238\n",
      "itteration number:  240\n",
      "Accuracy:  0.6879166666666666\n",
      "itteration number:  260\n",
      "Accuracy:  0.6975\n",
      "itteration number:  280\n",
      "Accuracy:  0.7060714285714286\n",
      "itteration number:  300\n",
      "Accuracy:  0.7141071428571428\n",
      "itteration number:  320\n",
      "Accuracy:  0.7220238095238095\n",
      "itteration number:  340\n",
      "Accuracy:  0.7276785714285714\n",
      "itteration number:  360\n",
      "Accuracy:  0.7323511904761905\n",
      "itteration number:  380\n",
      "Accuracy:  0.7372619047619048\n",
      "itteration number:  400\n",
      "Accuracy:  0.7415773809523809\n",
      "itteration number:  420\n",
      "Accuracy:  0.7452083333333334\n",
      "itteration number:  440\n",
      "Accuracy:  0.7505654761904762\n",
      "itteration number:  460\n",
      "Accuracy:  0.7540178571428572\n",
      "itteration number:  480\n",
      "Accuracy:  0.7575595238095238\n",
      "itteration number:  500\n",
      "Accuracy:  0.7604761904761905\n",
      "itteration number:  520\n",
      "Accuracy:  0.7628869047619048\n",
      "itteration number:  540\n",
      "Accuracy:  0.7654166666666666\n",
      "itteration number:  560\n",
      "Accuracy:  0.767797619047619\n",
      "itteration number:  580\n",
      "Accuracy:  0.7700892857142857\n",
      "itteration number:  600\n",
      "Accuracy:  0.7722023809523809\n",
      "itteration number:  620\n",
      "Accuracy:  0.7741964285714286\n",
      "itteration number:  640\n",
      "Accuracy:  0.7750595238095238\n",
      "itteration number:  660\n",
      "Accuracy:  0.7764285714285715\n",
      "itteration number:  680\n",
      "Accuracy:  0.7782738095238095\n",
      "itteration number:  700\n",
      "Accuracy:  0.7795535714285714\n",
      "itteration number:  720\n",
      "Accuracy:  0.7808630952380953\n",
      "itteration number:  740\n",
      "Accuracy:  0.7820238095238096\n",
      "itteration number:  760\n",
      "Accuracy:  0.7832142857142858\n",
      "itteration number:  780\n",
      "Accuracy:  0.7845238095238095\n",
      "itteration number:  800\n",
      "Accuracy:  0.7858333333333334\n",
      "itteration number:  820\n",
      "Accuracy:  0.7869047619047619\n",
      "itteration number:  840\n",
      "Accuracy:  0.7882738095238095\n",
      "itteration number:  860\n",
      "Accuracy:  0.7892261904761905\n",
      "itteration number:  880\n",
      "Accuracy:  0.7903869047619048\n",
      "itteration number:  900\n",
      "Accuracy:  0.7913690476190476\n",
      "itteration number:  920\n",
      "Accuracy:  0.7917857142857143\n",
      "itteration number:  940\n",
      "Accuracy:  0.7928273809523809\n",
      "itteration number:  960\n",
      "Accuracy:  0.7933333333333333\n",
      "itteration number:  980\n",
      "Accuracy:  0.79375\n"
     ]
    }
   ],
   "source": [
    "w1, b1, w2, b2 = gradient_descent(xtrain , ytrain, 0.1, 1000)"
   ]
  },
  {
   "cell_type": "code",
   "execution_count": 71,
   "id": "5773cac0-69af-4f41-9e1a-39327ee1b4fe",
   "metadata": {},
   "outputs": [
    {
     "name": "stdout",
     "output_type": "stream",
     "text": [
      "Validation accuracy =  0.7885714285714286\n"
     ]
    }
   ],
   "source": [
    "z1val, a1val, z2val, a2val = forward_prop(w1, b1, w2, b2, xval)\n",
    "val_acc = get_accuracy(get_predictions(a2val), yval)\n",
    "print(\"Validation accuracy = \", val_acc)"
   ]
  },
  {
   "cell_type": "code",
   "execution_count": null,
   "id": "75159e26-a372-445d-bbbb-5a0edd88e52f",
   "metadata": {},
   "outputs": [],
   "source": []
  }
 ],
 "metadata": {
  "kernelspec": {
   "display_name": "Python 3 (ipykernel)",
   "language": "python",
   "name": "python3"
  },
  "language_info": {
   "codemirror_mode": {
    "name": "ipython",
    "version": 3
   },
   "file_extension": ".py",
   "mimetype": "text/x-python",
   "name": "python",
   "nbconvert_exporter": "python",
   "pygments_lexer": "ipython3",
   "version": "3.11.7"
  }
 },
 "nbformat": 4,
 "nbformat_minor": 5
}
